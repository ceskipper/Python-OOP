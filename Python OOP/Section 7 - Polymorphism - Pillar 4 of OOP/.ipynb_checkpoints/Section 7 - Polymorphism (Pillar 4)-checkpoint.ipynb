{
 "cells": [
  {
   "cell_type": "markdown",
   "metadata": {},
   "source": [
    "# Section 7 - Polymorphism (Pillar 4)"
   ]
  },
  {
   "cell_type": "markdown",
   "metadata": {},
   "source": [
    "### Polymorphism - characteristic of an entity to be able it present in more than one form"
   ]
  },
  {
   "cell_type": "markdown",
   "metadata": {},
   "source": [
    "---"
   ]
  },
  {
   "cell_type": "markdown",
   "metadata": {},
   "source": [
    "## Overriding and the super() method\n",
    "#### Overriding - when your derived class inherits methods from your base class, but then it might not behave the same when in the derived class. The derived class has the ability to change how this method works be redefinining it in the derived class.\n",
    "#### Syntax:"
   ]
  },
  {
   "cell_type": "code",
   "execution_count": null,
   "metadata": {},
   "outputs": [],
   "source": [
    "class BaseClass:\n",
    "    def baseClassMethod():\n",
    "        #define behavior\n",
    "        \n",
    "class DerivedClass(BaseClass):\n",
    "    def baseClassMethod():\n",
    "        #redefine behavior"
   ]
  },
  {
   "cell_type": "code",
   "execution_count": 3,
   "metadata": {},
   "outputs": [
    {
     "name": "stdout",
     "output_type": "stream",
     "text": [
      "Number of working hours of employee:  40\n"
     ]
    }
   ],
   "source": [
    "class Employee:\n",
    "    def setNumberOfWorkingHours(self):\n",
    "        self.numberOfWorkingHours = 40\n",
    "    \n",
    "    def displayNumberOfWorkingHours(self):\n",
    "        print(self.numberOfWorkingHours)\n",
    "    \n",
    "employee = Employee()\n",
    "employee.setNumberOfWorkingHours()\n",
    "print('Number of working hours of employee: ', end = ' ')       # end = ' ' will print the number of hours is on the same line\n",
    "employee.displayNumberOfWorkingHours()"
   ]
  },
  {
   "cell_type": "code",
   "execution_count": 4,
   "metadata": {},
   "outputs": [
    {
     "name": "stdout",
     "output_type": "stream",
     "text": [
      "Number of working hours of employee:  40\n",
      "Number of working hours of trainee:  45\n"
     ]
    }
   ],
   "source": [
    "class Employee:\n",
    "    def setNumberOfWorkingHours(self):\n",
    "        self.numberOfWorkingHours = 40\n",
    "    \n",
    "    def displayNumberOfWorkingHours(self):\n",
    "        print(self.numberOfWorkingHours)\n",
    "        \n",
    "class Trainee(Employee):\n",
    "    def setNumberOfWorkingHours(self):\n",
    "        self.numberOfWorkingHours = 45         #override the numberOfWorkingHours for trainees\n",
    "    \n",
    "employee = Employee()\n",
    "employee.setNumberOfWorkingHours()\n",
    "print('Number of working hours of employee: ', end = ' ')       \n",
    "employee.displayNumberOfWorkingHours()\n",
    "trainee = Trainee()\n",
    "trainee.setNumberOfWorkingHours()\n",
    "print('Number of working hours of trainee: ', end = ' ')      \n",
    "trainee.displayNumberOfWorkingHours()"
   ]
  },
  {
   "cell_type": "markdown",
   "metadata": {},
   "source": [
    "### super() - the super() builtin returns a proxy object (temporary object of the superclass) that allows us to access methods of the base class"
   ]
  },
  {
   "cell_type": "code",
   "execution_count": 5,
   "metadata": {},
   "outputs": [
    {
     "name": "stdout",
     "output_type": "stream",
     "text": [
      "Number of working hours of employee:  40\n",
      "Number of working hours of trainee:  45\n",
      "Number of working hours of trainee after reset:  40\n"
     ]
    }
   ],
   "source": [
    "class Employee:\n",
    "    def setNumberOfWorkingHours(self):\n",
    "        self.numberOfWorkingHours = 40\n",
    "    \n",
    "    def displayNumberOfWorkingHours(self):\n",
    "        print(self.numberOfWorkingHours)\n",
    "        \n",
    "class Trainee(Employee):\n",
    "    def setNumberOfWorkingHours(self):\n",
    "        self.numberOfWorkingHours = 45         #override the numberOfWorkingHours for trainees\n",
    "        \n",
    "    def resetNumberOfWorkingHours(self):\n",
    "        super().setNumberOfWorkingHours()\n",
    "    \n",
    "employee = Employee()\n",
    "employee.setNumberOfWorkingHours()\n",
    "print('Number of working hours of employee: ', end = ' ')       \n",
    "employee.displayNumberOfWorkingHours()\n",
    "trainee = Trainee()\n",
    "trainee.setNumberOfWorkingHours()\n",
    "print('Number of working hours of trainee: ', end = ' ')      \n",
    "trainee.displayNumberOfWorkingHours()\n",
    "trainee.resetNumberOfWorkingHours()\n",
    "print('Number of working hours of trainee after reset: ', end = ' ')      \n",
    "trainee.displayNumberOfWorkingHours()"
   ]
  },
  {
   "cell_type": "markdown",
   "metadata": {},
   "source": [
    "---"
   ]
  },
  {
   "cell_type": "markdown",
   "metadata": {},
   "source": [
    "## The Diamond Shaped Problem of Multiple Inheritance"
   ]
  },
  {
   "cell_type": "markdown",
   "metadata": {},
   "source": [
    "Case 1: Method will not be overriden in class B and class C"
   ]
  },
  {
   "cell_type": "markdown",
   "metadata": {},
   "source": [
    "Case 2: Method will be override in clsas B but not class C"
   ]
  },
  {
   "cell_type": "markdown",
   "metadata": {},
   "source": [
    "Case 3: Method will be overridden in class C and not class B"
   ]
  },
  {
   "cell_type": "markdown",
   "metadata": {},
   "source": [
    "Case 4: Method will be overridden in both class B and class C"
   ]
  },
  {
   "cell_type": "markdown",
   "metadata": {},
   "source": [
    "### Case 1: Method will not be overriden in class B and class C"
   ]
  },
  {
   "cell_type": "code",
   "execution_count": 2,
   "metadata": {},
   "outputs": [
    {
     "name": "stdout",
     "output_type": "stream",
     "text": [
      "This method belongs to class A\n"
     ]
    }
   ],
   "source": [
    "class A:\n",
    "    def method(self):\n",
    "        print('This method belongs to class A')\n",
    "    pass\n",
    "\n",
    "class B(A):\n",
    "    pass\n",
    "\n",
    "class C(A):\n",
    "    pass\n",
    "\n",
    "class D(B, C):\n",
    "    pass\n",
    "\n",
    "d = D()\n",
    "d.method()"
   ]
  },
  {
   "cell_type": "markdown",
   "metadata": {},
   "source": [
    "### Case 2: Method will be override in clsas B but not class C"
   ]
  },
  {
   "cell_type": "code",
   "execution_count": 3,
   "metadata": {},
   "outputs": [
    {
     "name": "stdout",
     "output_type": "stream",
     "text": [
      "This method belongs to class B\n"
     ]
    }
   ],
   "source": [
    "class A:\n",
    "    def method(self):\n",
    "        print('This method belongs to class A')\n",
    "    pass\n",
    "\n",
    "class B(A):\n",
    "    def method(self):\n",
    "        print('This method belongs to class B')\n",
    "    pass\n",
    "\n",
    "class C(A):\n",
    "    pass\n",
    "\n",
    "class D(B, C):\n",
    "    pass\n",
    "\n",
    "d = D()\n",
    "d.method()"
   ]
  },
  {
   "cell_type": "markdown",
   "metadata": {},
   "source": [
    "### Case 3: Method will be overridden in class C and not class B"
   ]
  },
  {
   "cell_type": "code",
   "execution_count": 4,
   "metadata": {},
   "outputs": [
    {
     "name": "stdout",
     "output_type": "stream",
     "text": [
      "This method belongs to class C\n"
     ]
    }
   ],
   "source": [
    "class A:\n",
    "    def method(self):\n",
    "        print('This method belongs to class A')\n",
    "    pass\n",
    "\n",
    "class B(A):\n",
    "    pass\n",
    "\n",
    "class C(A):\n",
    "    def method(self):\n",
    "        print('This method belongs to class C')\n",
    "    pass\n",
    "\n",
    "class D(B, C):\n",
    "    pass\n",
    "\n",
    "d = D()\n",
    "d.method()"
   ]
  },
  {
   "cell_type": "markdown",
   "metadata": {},
   "source": [
    "### Case 4: Method will be overridden in both class B and class C"
   ]
  },
  {
   "cell_type": "code",
   "execution_count": 6,
   "metadata": {},
   "outputs": [
    {
     "name": "stdout",
     "output_type": "stream",
     "text": [
      "This method belongs to class B\n"
     ]
    }
   ],
   "source": [
    "class A:\n",
    "    def method(self):\n",
    "        print('This method belongs to class A')\n",
    "    pass\n",
    "\n",
    "class B(A):\n",
    "    def method(self):\n",
    "        print('This method belongs to class B')\n",
    "\n",
    "class C(A):\n",
    "    def method(self):\n",
    "        print('This method belongs to class C')\n",
    "    pass\n",
    "\n",
    "class D(B, C):\n",
    "    pass\n",
    "\n",
    "d = D()\n",
    "d.method()"
   ]
  },
  {
   "cell_type": "markdown",
   "metadata": {},
   "source": [
    "^This example prints class B because B was listed first in class D"
   ]
  },
  {
   "cell_type": "code",
   "execution_count": 7,
   "metadata": {},
   "outputs": [
    {
     "name": "stdout",
     "output_type": "stream",
     "text": [
      "This method belongs to class C\n"
     ]
    }
   ],
   "source": [
    "class A:\n",
    "    def method(self):\n",
    "        print('This method belongs to class A')\n",
    "    pass\n",
    "\n",
    "class B(A):\n",
    "    def method(self):\n",
    "        print('This method belongs to class B')\n",
    "\n",
    "class C(A):\n",
    "    def method(self):\n",
    "        print('This method belongs to class C')\n",
    "    pass\n",
    "\n",
    "class D(C, B):\n",
    "    pass\n",
    "\n",
    "d = D()\n",
    "d.method()"
   ]
  },
  {
   "cell_type": "markdown",
   "metadata": {},
   "source": [
    "^This example prints class C because C was listed first in class D\n",
    "This is called:\n",
    "#### Method Resolution Order (MRO)"
   ]
  },
  {
   "cell_type": "markdown",
   "metadata": {},
   "source": [
    "---"
   ]
  },
  {
   "cell_type": "markdown",
   "metadata": {},
   "source": [
    "## Overloading an Operator\n",
    "#### Operator Overloading \n",
    "means giving extended meaning beyond their predefined operational meaning. For example operator + is used to add two integers as well as join two strings and merge two lists. It is achievable because ‘+’ operator is overloaded by int class and str class. You might have noticed that the same built-in operator or function shows different behavior for objects of different classes, this is called Operator Overloading. We can overload all existing operators but we can’t create a new operator.\n",
    "#### Syntax:"
   ]
  },
  {
   "cell_type": "code",
   "execution_count": null,
   "metadata": {},
   "outputs": [],
   "source": [
    "class ClassName:\n",
    "    def __add__(objectOne, objectTwo):\n",
    "        #define how addition needs to be performed"
   ]
  },
  {
   "cell_type": "code",
   "execution_count": 9,
   "metadata": {},
   "outputs": [
    {
     "ename": "TypeError",
     "evalue": "unsupported operand type(s) for +: 'Square' and 'Square'",
     "output_type": "error",
     "traceback": [
      "\u001b[1;31m---------------------------------------------------------------------------\u001b[0m",
      "\u001b[1;31mTypeError\u001b[0m                                 Traceback (most recent call last)",
      "\u001b[1;32m<ipython-input-9-5e8a6ea48260>\u001b[0m in \u001b[0;36m<module>\u001b[1;34m\u001b[0m\n\u001b[0;32m      5\u001b[0m \u001b[0msquareOne\u001b[0m \u001b[1;33m=\u001b[0m \u001b[0mSquare\u001b[0m\u001b[1;33m(\u001b[0m\u001b[1;36m5\u001b[0m\u001b[1;33m)\u001b[0m   \u001b[1;31m#sum of sides: 5 * 4 = 20\u001b[0m\u001b[1;33m\u001b[0m\u001b[1;33m\u001b[0m\u001b[0m\n\u001b[0;32m      6\u001b[0m \u001b[0msquareTwo\u001b[0m \u001b[1;33m=\u001b[0m \u001b[0mSquare\u001b[0m\u001b[1;33m(\u001b[0m\u001b[1;36m10\u001b[0m\u001b[1;33m)\u001b[0m  \u001b[1;31m#sum of sides: 10 * 4 = 40\u001b[0m\u001b[1;33m\u001b[0m\u001b[1;33m\u001b[0m\u001b[0m\n\u001b[1;32m----> 7\u001b[1;33m \u001b[0mprint\u001b[0m\u001b[1;33m(\u001b[0m\u001b[1;34m\"Sum of sides of both the squares = \"\u001b[0m\u001b[1;33m,\u001b[0m \u001b[0msquareOne\u001b[0m \u001b[1;33m+\u001b[0m \u001b[0msquareTwo\u001b[0m\u001b[1;33m)\u001b[0m\u001b[1;33m\u001b[0m\u001b[1;33m\u001b[0m\u001b[0m\n\u001b[0m",
      "\u001b[1;31mTypeError\u001b[0m: unsupported operand type(s) for +: 'Square' and 'Square'"
     ]
    }
   ],
   "source": [
    "class Square:\n",
    "    def __init__(self, side):\n",
    "        self.side = side\n",
    "\n",
    "squareOne = Square(5)   #sum of sides: 5 * 4 = 20\n",
    "squareTwo = Square(10)  #sum of sides: 10 * 4 = 40\n",
    "print(\"Sum of sides of both the squares = \", squareOne + squareTwo)"
   ]
  },
  {
   "cell_type": "code",
   "execution_count": 10,
   "metadata": {},
   "outputs": [
    {
     "name": "stdout",
     "output_type": "stream",
     "text": [
      "Sum of sides of both the squares =  60\n"
     ]
    }
   ],
   "source": [
    "class Square:\n",
    "    def __init__(self, side):\n",
    "        self.side = side\n",
    "    \n",
    "    def __add__(squareOne, squareTwo):\n",
    "        return((4 * squareOne.side) + (4 * squareTwo.side))\n",
    "\n",
    "squareOne = Square(5)   #sum of sides: 5 * 4 = 20\n",
    "squareTwo = Square(10)  #sum of sides: 10 * 4 = 40\n",
    "print(\"Sum of sides of both the squares = \", squareOne + squareTwo)"
   ]
  },
  {
   "cell_type": "markdown",
   "metadata": {},
   "source": [
    "---"
   ]
  },
  {
   "cell_type": "markdown",
   "metadata": {},
   "source": [
    "## Implementing an Abstract Base Class (ABC)\n",
    "\n",
    "An abstract class can be considered as a blueprint for other classes. It allows you to create a set of methods that must be created within any child classes built from the abstract class. A class which contains one or more abstract methods is called an abstract class. An abstract method is a method that has a declaration but does not have an implementation. While we are designing large functional units we use an abstract class. When we want to provide a common interface for different implementations of a component, we use an abstract class."
   ]
  },
  {
   "cell_type": "code",
   "execution_count": 11,
   "metadata": {},
   "outputs": [
    {
     "name": "stdout",
     "output_type": "stream",
     "text": [
      "Area of square:  16\n",
      "Area of rectangle:  50\n"
     ]
    }
   ],
   "source": [
    "class Square:\n",
    "    side = 4\n",
    "    def area(self):\n",
    "        print('Area of square: ', self.side * self.side)\n",
    "    \n",
    "class Rectangle:\n",
    "    width = 5\n",
    "    length = 10\n",
    "    def area(self):\n",
    "        print('Area of rectangle: ', self.width * self.length)\n",
    "        \n",
    "square = Square()\n",
    "rectangle = Rectangle()\n",
    "square.area()\n",
    "rectangle.area()"
   ]
  },
  {
   "cell_type": "code",
   "execution_count": 12,
   "metadata": {},
   "outputs": [
    {
     "ename": "TypeError",
     "evalue": "Can't instantiate abstract class Square with abstract methods area",
     "output_type": "error",
     "traceback": [
      "\u001b[1;31m---------------------------------------------------------------------------\u001b[0m",
      "\u001b[1;31mTypeError\u001b[0m                                 Traceback (most recent call last)",
      "\u001b[1;32m<ipython-input-12-f9774a87d554>\u001b[0m in \u001b[0;36m<module>\u001b[1;34m\u001b[0m\n\u001b[0;32m     17\u001b[0m         \u001b[0mprint\u001b[0m\u001b[1;33m(\u001b[0m\u001b[1;34m'Area of rectangle: '\u001b[0m\u001b[1;33m,\u001b[0m \u001b[0mself\u001b[0m\u001b[1;33m.\u001b[0m\u001b[0mwidth\u001b[0m \u001b[1;33m*\u001b[0m \u001b[0mself\u001b[0m\u001b[1;33m.\u001b[0m\u001b[0mlength\u001b[0m\u001b[1;33m)\u001b[0m\u001b[1;33m\u001b[0m\u001b[1;33m\u001b[0m\u001b[0m\n\u001b[0;32m     18\u001b[0m \u001b[1;33m\u001b[0m\u001b[0m\n\u001b[1;32m---> 19\u001b[1;33m \u001b[0msquare\u001b[0m \u001b[1;33m=\u001b[0m \u001b[0mSquare\u001b[0m\u001b[1;33m(\u001b[0m\u001b[1;33m)\u001b[0m\u001b[1;33m\u001b[0m\u001b[1;33m\u001b[0m\u001b[0m\n\u001b[0m\u001b[0;32m     20\u001b[0m \u001b[0mrectangle\u001b[0m \u001b[1;33m=\u001b[0m \u001b[0mRectangle\u001b[0m\u001b[1;33m(\u001b[0m\u001b[1;33m)\u001b[0m\u001b[1;33m\u001b[0m\u001b[1;33m\u001b[0m\u001b[0m\n\u001b[0;32m     21\u001b[0m \u001b[0mrectangle\u001b[0m\u001b[1;33m.\u001b[0m\u001b[0marea\u001b[0m\u001b[1;33m(\u001b[0m\u001b[1;33m)\u001b[0m\u001b[1;33m\u001b[0m\u001b[1;33m\u001b[0m\u001b[0m\n",
      "\u001b[1;31mTypeError\u001b[0m: Can't instantiate abstract class Square with abstract methods area"
     ]
    }
   ],
   "source": [
    "from abc import ABCMeta, abstractmethod\n",
    "\n",
    "class Shape(metaclass = ABCMeta):\n",
    "    @abstractmethod\n",
    "    def area(self):\n",
    "        return 0\n",
    "\n",
    "class Square(Shape):\n",
    "    side = 4\n",
    "    #def area(self):\n",
    "        #print('Area of square: ', self.side * self.side)\n",
    "    \n",
    "class Rectangle(Shape):\n",
    "    width = 5\n",
    "    length = 10\n",
    "    def area(self):\n",
    "        print('Area of rectangle: ', self.width * self.length)\n",
    "        \n",
    "square = Square()\n",
    "rectangle = Rectangle()\n",
    "rectangle.area()"
   ]
  },
  {
   "cell_type": "code",
   "execution_count": 14,
   "metadata": {},
   "outputs": [
    {
     "name": "stdout",
     "output_type": "stream",
     "text": [
      "Area of square:  16\n",
      "Area of rectangle:  50\n"
     ]
    }
   ],
   "source": [
    "from abc import ABCMeta, abstractmethod\n",
    "\n",
    "class Shape(metaclass = ABCMeta):\n",
    "    @abstractmethod\n",
    "    def area(self):\n",
    "        return 0\n",
    "\n",
    "class Square(Shape):\n",
    "    side = 4\n",
    "    def area(self):\n",
    "        print('Area of square: ', self.side * self.side)\n",
    "    \n",
    "class Rectangle(Shape):\n",
    "    width = 5\n",
    "    length = 10\n",
    "    def area(self):\n",
    "        print('Area of rectangle: ', self.width * self.length)\n",
    "        \n",
    "square = Square()\n",
    "rectangle = Rectangle()\n",
    "square.area()\n",
    "rectangle.area()"
   ]
  },
  {
   "cell_type": "code",
   "execution_count": 15,
   "metadata": {},
   "outputs": [
    {
     "name": "stdout",
     "output_type": "stream",
     "text": [
      "Area of square:  16\n",
      "Area of rectangle:  50\n"
     ]
    },
    {
     "ename": "TypeError",
     "evalue": "Can't instantiate abstract class Shape with abstract methods area",
     "output_type": "error",
     "traceback": [
      "\u001b[1;31m---------------------------------------------------------------------------\u001b[0m",
      "\u001b[1;31mTypeError\u001b[0m                                 Traceback (most recent call last)",
      "\u001b[1;32m<ipython-input-15-67761476003a>\u001b[0m in \u001b[0;36m<module>\u001b[1;34m\u001b[0m\n\u001b[0;32m     21\u001b[0m \u001b[0msquare\u001b[0m\u001b[1;33m.\u001b[0m\u001b[0marea\u001b[0m\u001b[1;33m(\u001b[0m\u001b[1;33m)\u001b[0m\u001b[1;33m\u001b[0m\u001b[1;33m\u001b[0m\u001b[0m\n\u001b[0;32m     22\u001b[0m \u001b[0mrectangle\u001b[0m\u001b[1;33m.\u001b[0m\u001b[0marea\u001b[0m\u001b[1;33m(\u001b[0m\u001b[1;33m)\u001b[0m\u001b[1;33m\u001b[0m\u001b[1;33m\u001b[0m\u001b[0m\n\u001b[1;32m---> 23\u001b[1;33m \u001b[0mshape\u001b[0m \u001b[1;33m=\u001b[0m \u001b[0mShape\u001b[0m\u001b[1;33m(\u001b[0m\u001b[1;33m)\u001b[0m\u001b[1;33m\u001b[0m\u001b[1;33m\u001b[0m\u001b[0m\n\u001b[0m",
      "\u001b[1;31mTypeError\u001b[0m: Can't instantiate abstract class Shape with abstract methods area"
     ]
    }
   ],
   "source": [
    "from abc import ABCMeta, abstractmethod\n",
    "\n",
    "class Shape(metaclass = ABCMeta):\n",
    "    @abstractmethod\n",
    "    def area(self):\n",
    "        return 0\n",
    "\n",
    "class Square(Shape):\n",
    "    side = 4\n",
    "    def area(self):\n",
    "        print('Area of square: ', self.side * self.side)\n",
    "    \n",
    "class Rectangle(Shape):\n",
    "    width = 5\n",
    "    length = 10\n",
    "    def area(self):\n",
    "        print('Area of rectangle: ', self.width * self.length)\n",
    "        \n",
    "square = Square()\n",
    "rectangle = Rectangle()\n",
    "square.area()\n",
    "rectangle.area()\n",
    "shape = Shape()     #cannot have an object for an abstract class"
   ]
  },
  {
   "cell_type": "markdown",
   "metadata": {},
   "source": [
    "---"
   ]
  },
  {
   "cell_type": "markdown",
   "metadata": {},
   "source": [
    "## Practice"
   ]
  },
  {
   "cell_type": "code",
   "execution_count": 17,
   "metadata": {},
   "outputs": [
    {
     "name": "stdout",
     "output_type": "stream",
     "text": [
      "squareOne to the power of squareTwo =  16\n"
     ]
    }
   ],
   "source": [
    "class Square:\n",
    "    def __init__(self, side):\n",
    "        self.side = side\n",
    "    \n",
    "    def __pow__(squareOne, squareTwo):\n",
    "        return squareOne.side ** squareTwo.side\n",
    "\n",
    "squareOne = Square(2)   \n",
    "squareTwo = Square(4)  \n",
    "print(\"squareOne to the power of squareTwo = \", squareOne ** squareTwo)"
   ]
  },
  {
   "cell_type": "code",
   "execution_count": null,
   "metadata": {},
   "outputs": [],
   "source": []
  }
 ],
 "metadata": {
  "kernelspec": {
   "display_name": "Python 3",
   "language": "python",
   "name": "python3"
  },
  "language_info": {
   "codemirror_mode": {
    "name": "ipython",
    "version": 3
   },
   "file_extension": ".py",
   "mimetype": "text/x-python",
   "name": "python",
   "nbconvert_exporter": "python",
   "pygments_lexer": "ipython3",
   "version": "3.8.5"
  }
 },
 "nbformat": 4,
 "nbformat_minor": 4
}
