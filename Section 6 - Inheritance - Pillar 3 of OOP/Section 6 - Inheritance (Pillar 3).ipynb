{
 "cells": [
  {
   "cell_type": "markdown",
   "metadata": {},
   "source": [
    "# Section 6 - Inheritance (Pillar 3)"
   ]
  },
  {
   "cell_type": "markdown",
   "metadata": {},
   "source": [
    "## Inheritance:\n",
    "### 1) Inheritance = deriving the attributes and methods of a base class into a derived class\n",
    "### 2) The derived class will have access to all the attributes and methods of the base class, and it can also have attributes and methods of its own"
   ]
  },
  {
   "cell_type": "markdown",
   "metadata": {},
   "source": [
    "## Single Inheritance\n",
    "When a derived class has just one base class\n",
    "#### Base class = parent class\n",
    "#### Derived class = child class\n",
    "#### Syntax:"
   ]
  },
  {
   "cell_type": "code",
   "execution_count": 12,
   "metadata": {},
   "outputs": [],
   "source": [
    "class baseClass:\n",
    "    # Define attributes and methods\n",
    " \n",
    "class derivedClass(baseClass):\n",
    "    # Define attributes and methods of derived class apart from inheriting base class attributes"
   ]
  },
  {
   "cell_type": "code",
   "execution_count": 2,
   "metadata": {},
   "outputs": [
    {
     "name": "stdout",
     "output_type": "stream",
     "text": [
      "This MacBook was manufactured in the year 2017 by Apple Inc.\n",
      "To contact us, log in to  www.apple.com/contact\n"
     ]
    }
   ],
   "source": [
    "class Apple:\n",
    "    manufacturer = 'Apple Inc.'\n",
    "    contactWebsite = 'www.apple.com/contact'\n",
    "    \n",
    "    def contactDetails(self):\n",
    "        print('To contact us, log in to ', self.contactWebsite)\n",
    "        \n",
    "class MacBook(Apple):\n",
    "    def __init__(self):\n",
    "        self.yearOfManufacture = 2017\n",
    "        \n",
    "    def manufacturerDetails(self):\n",
    "        print('This MacBook was manufactured in the year {} by {}'.format(self.yearOfManufacture, self.manufacturer))\n",
    "\n",
    "macBook = MacBook()\n",
    "macBook.manufacturerDetails()\n",
    "macBook.contactDetails()"
   ]
  },
  {
   "cell_type": "markdown",
   "metadata": {},
   "source": [
    "---"
   ]
  },
  {
   "cell_type": "markdown",
   "metadata": {},
   "source": [
    "## Multiple Inheritance\n",
    "#### When a derived class inherits from more than one base class\n",
    "#### The derived class can have access to the attributes and methods of all the base classes that it inherited from\n",
    "#### Syntax:"
   ]
  },
  {
   "cell_type": "code",
   "execution_count": null,
   "metadata": {},
   "outputs": [],
   "source": [
    "class baseClassOne:\n",
    "    # Attributes and methods of baseClassOne\n",
    "\n",
    "class baseClassTwo:\n",
    "    # Attributes and methods of baseClassTwo\n",
    "\n",
    "class derivedClass(baseClassOne, baseClassTwo):\n",
    "    # pass"
   ]
  },
  {
   "cell_type": "code",
   "execution_count": 3,
   "metadata": {},
   "outputs": [
    {
     "name": "stdout",
     "output_type": "stream",
     "text": [
      "This is a multitasking system. Visit www.apple.com for more details.\n"
     ]
    }
   ],
   "source": [
    "class OperatingSystem:\n",
    "    multitasking = True\n",
    "\n",
    "class Apple:\n",
    "    website = 'www.apple.com'\n",
    "    \n",
    "class MacBook(OperatingSystem, Apple):\n",
    "    def __init__(self):\n",
    "        if self.multitasking is True:\n",
    "            print('This is a multitasking system. Visit {} for more details.'.format(self.website))\n",
    "\n",
    "macBook = MacBook()"
   ]
  },
  {
   "cell_type": "markdown",
   "metadata": {},
   "source": [
    "### What happens when you have the same attribute in both of your base classes?\n",
    "The Name attribute was taken from the OperatingSystem class because it was listed first for the inherited class Macbook"
   ]
  },
  {
   "cell_type": "code",
   "execution_count": 5,
   "metadata": {},
   "outputs": [
    {
     "name": "stdout",
     "output_type": "stream",
     "text": [
      "This is a multitasking system. Visit www.apple.com for more details.\n",
      "Name:  Mac OS\n"
     ]
    }
   ],
   "source": [
    "class OperatingSystem:\n",
    "    multitasking = True\n",
    "    name = 'Mac OS'\n",
    "\n",
    "class Apple:\n",
    "    website = 'www.apple.com'\n",
    "    name = 'Apple'\n",
    "    \n",
    "class MacBook(OperatingSystem, Apple):\n",
    "    def __init__(self):\n",
    "        if self.multitasking is True:\n",
    "            print('This is a multitasking system. Visit {} for more details.'.format(self.website))\n",
    "            print('Name: ', self.name)\n",
    "\n",
    "macBook = MacBook()"
   ]
  },
  {
   "cell_type": "markdown",
   "metadata": {},
   "source": [
    "### Multi Level Inheritance\n",
    "#### When a derived class of a base class becomes a base class for another derived class\n",
    "#### The final derived class will have access to the attributes of its family of base classes\n",
    "#### Syntax:"
   ]
  },
  {
   "cell_type": "code",
   "execution_count": null,
   "metadata": {},
   "outputs": [],
   "source": [
    "class baseClass:\n",
    "    # Define attributes and methods of baseClass\n",
    "\n",
    "class derivedClass(baseClass):\n",
    "    # Define attributes and methods of derivedClass\n",
    "    \n",
    "class multilevelDerivedClass(derivedClass):\n",
    "    # Define attributes and methods for this class"
   ]
  },
  {
   "cell_type": "code",
   "execution_count": 6,
   "metadata": {},
   "outputs": [
    {
     "name": "stdout",
     "output_type": "stream",
     "text": [
      "This guitar consists of 6 strings. It is made of Tonewood, and it can play 12 keys.\n"
     ]
    }
   ],
   "source": [
    "class MusicalInstruments:\n",
    "    numberOfMajorKeys = 12\n",
    "\n",
    "class StringInstruments(MusicalInstruments):\n",
    "    typeOfWood = 'Tonewood'\n",
    "    \n",
    "class Guitar(StringInstruments):\n",
    "    def __init__(self):\n",
    "        self.numberOfStrings = 6\n",
    "        print('This guitar consists of {} strings. It is made of {}, and it can play {} keys.'.format(self.numberOfStrings, \n",
    "                self.typeOfWood, self.numberOfMajorKeys))\n",
    "        \n",
    "guitar = Guitar()"
   ]
  },
  {
   "cell_type": "markdown",
   "metadata": {},
   "source": [
    "### Access Specifiers: Public, Protected, and Private Naming Conventions in Python"
   ]
  },
  {
   "cell_type": "markdown",
   "metadata": {},
   "source": [
    "#### Making members (attributes and methods) protected by the following naming conventions:\n",
    "#### Public = accessible to your class, your derived class, and anywhere outside your derived class\n",
    "Public => memberName\n",
    "\n",
    "#### Protected = accessible to your class and your derived class\n",
    "Protected => _memberName\n",
    "\n",
    "#### Private = accessible only to your class\n",
    "Private => __memberName\n",
    "\n",
    "##### Also see: Name mangling on private members as a note below in the code"
   ]
  },
  {
   "cell_type": "markdown",
   "metadata": {},
   "source": [
    "### Protected"
   ]
  },
  {
   "cell_type": "code",
   "execution_count": 4,
   "metadata": {},
   "outputs": [
    {
     "name": "stdout",
     "output_type": "stream",
     "text": [
      "Public attribute numberOfWheels:  4\n",
      "Protected attribute color:  Black\n"
     ]
    }
   ],
   "source": [
    "class Car:\n",
    "    numberOfWheels = 4\n",
    "    _color = 'Black'\n",
    "\n",
    "class Bmw(Car):\n",
    "    def __init__(self):\n",
    "        print('Protected attribute color: ', self._color)\n",
    "    \n",
    "car = Car()\n",
    "print('Public attribute numberOfWheels: ', car.numberOfWheels)\n",
    "bmw = Bmw()\n",
    "\n",
    "#notice that the _color attribute is accessible outside the base class"
   ]
  },
  {
   "cell_type": "markdown",
   "metadata": {},
   "source": [
    "### Private"
   ]
  },
  {
   "cell_type": "code",
   "execution_count": 9,
   "metadata": {},
   "outputs": [
    {
     "name": "stdout",
     "output_type": "stream",
     "text": [
      "Public attribute numberOfWheels:  4\n",
      "Protected attribute color:  Black\n"
     ]
    },
    {
     "ename": "AttributeError",
     "evalue": "'Car' object has no attribute '__yearOfManufacture'",
     "output_type": "error",
     "traceback": [
      "\u001b[1;31m---------------------------------------------------------------------------\u001b[0m",
      "\u001b[1;31mAttributeError\u001b[0m                            Traceback (most recent call last)",
      "\u001b[1;32m<ipython-input-9-c74b432a6a09>\u001b[0m in \u001b[0;36m<module>\u001b[1;34m\u001b[0m\n\u001b[0;32m     11\u001b[0m \u001b[0mprint\u001b[0m\u001b[1;33m(\u001b[0m\u001b[1;34m'Public attribute numberOfWheels: '\u001b[0m\u001b[1;33m,\u001b[0m \u001b[0mcar\u001b[0m\u001b[1;33m.\u001b[0m\u001b[0mnumberOfWheels\u001b[0m\u001b[1;33m)\u001b[0m\u001b[1;33m\u001b[0m\u001b[1;33m\u001b[0m\u001b[0m\n\u001b[0;32m     12\u001b[0m \u001b[0mbmw\u001b[0m \u001b[1;33m=\u001b[0m \u001b[0mBmw\u001b[0m\u001b[1;33m(\u001b[0m\u001b[1;33m)\u001b[0m\u001b[1;33m\u001b[0m\u001b[1;33m\u001b[0m\u001b[0m\n\u001b[1;32m---> 13\u001b[1;33m \u001b[0mprint\u001b[0m\u001b[1;33m(\u001b[0m\u001b[1;34m'Private attribute yearOfManufacture: '\u001b[0m\u001b[1;33m,\u001b[0m \u001b[0mcar\u001b[0m\u001b[1;33m.\u001b[0m\u001b[0m__yearOfManufacture\u001b[0m\u001b[1;33m)\u001b[0m\u001b[1;33m\u001b[0m\u001b[1;33m\u001b[0m\u001b[0m\n\u001b[0m",
      "\u001b[1;31mAttributeError\u001b[0m: 'Car' object has no attribute '__yearOfManufacture'"
     ]
    }
   ],
   "source": [
    "class Car:\n",
    "    numberOfWheels = 4             #public attribute\n",
    "    _color = 'Black'               #protected attribute\n",
    "    __yearOfManufacture = 2017     #private attribute\n",
    "\n",
    "class Bmw(Car):\n",
    "    def __init__(self):\n",
    "        print('Protected attribute color: ', self._color)\n",
    "    \n",
    "car = Car()\n",
    "print('Public attribute numberOfWheels: ', car.numberOfWheels)\n",
    "bmw = Bmw()\n",
    "print('Private attribute yearOfManufacture: ', car.__yearOfManufacture)\n",
    "\n",
    "#Error! __yearOfManufacture is a private attribute and cannot be used outside its base class"
   ]
  },
  {
   "cell_type": "markdown",
   "metadata": {},
   "source": [
    "#### Private attribute code corrected:"
   ]
  },
  {
   "cell_type": "code",
   "execution_count": 11,
   "metadata": {},
   "outputs": [
    {
     "name": "stdout",
     "output_type": "stream",
     "text": [
      "Public attribute numberOfWheels:  4\n",
      "Protected attribute color:  Black\n",
      "Private attribute yearOfManufacture:  2017\n"
     ]
    }
   ],
   "source": [
    "class Car:\n",
    "    numberOfWheels = 4             \n",
    "    _color = 'Black'               \n",
    "    __yearOfManufacture = 2017     # _Car__yearOfManufacture\n",
    "\n",
    "class Bmw(Car):\n",
    "    def __init__(self):\n",
    "        print('Protected attribute color: ', self._color)\n",
    "    \n",
    "car = Car()\n",
    "print('Public attribute numberOfWheels: ', car.numberOfWheels)\n",
    "bmw = Bmw()\n",
    "print('Private attribute yearOfManufacture: ', car._Car__yearOfManufacture)\n",
    "\n",
    "#when you start your attribute with two underscores, name mangling is being done to your attribute\n",
    "#to fix the error, specify that you are using the Car class; see last line of code (...., car._Car__yearOfManufacture)\n",
    "\n",
    "#Name mangling on private members:\n",
    "# __variableName => _ClassName__variableName"
   ]
  },
  {
   "cell_type": "markdown",
   "metadata": {},
   "source": [
    "---"
   ]
  },
  {
   "cell_type": "markdown",
   "metadata": {},
   "source": [
    "### Practice"
   ]
  },
  {
   "cell_type": "code",
   "execution_count": 16,
   "metadata": {},
   "outputs": [
    {
     "name": "stderr",
     "output_type": "stream",
     "text": [
      "<>:19: SyntaxWarning: \"is\" with a literal. Did you mean \"==\"?\n",
      "<>:19: SyntaxWarning: \"is\" with a literal. Did you mean \"==\"?\n"
     ]
    },
    {
     "name": "stdout",
     "output_type": "stream",
     "text": [
      "Would you like to change the type of wood from Teakwood? Y/N\n",
      "Y\n"
     ]
    },
    {
     "name": "stderr",
     "output_type": "stream",
     "text": [
      "<ipython-input-16-d3c42dd06738>:19: SyntaxWarning: \"is\" with a literal. Did you mean \"==\"?\n",
      "  if userChoice is 'Y':\n"
     ]
    },
    {
     "name": "stdout",
     "output_type": "stream",
     "text": [
      "Enter the type of wood you would like your chair to be made of\n",
      "CHERRY\n",
      "This chair is made of CHERRY and has 4 legs.\n"
     ]
    }
   ],
   "source": [
    "class Furniture:\n",
    "    def __init__(self):\n",
    "        self._typeOfWood = 'Teakwood'\n",
    "\n",
    "class Chair(Furniture):\n",
    "    def __init__(self):\n",
    "        super().__init__()             # super is used to call base class methods. We'll learn about this in the next section.\n",
    "        self._numberOfLegs = 4         # init after super() is calling the init of the base class to initialize the type of wood as Teakwood\n",
    "    \n",
    "    def setWoodType(self, typeOfWood):\n",
    "        self._typeOfWood = typeOfWood\n",
    "    \n",
    "    def displayChairSpecification(self):\n",
    "        print('This chair is made of {} and has {} legs.'.format(self._typeOfWood, self._numberOfLegs))\n",
    "\n",
    "chair = Chair()\n",
    "print('Would you like to change the type of wood from Teakwood? Y/N')\n",
    "userChoice = input()\n",
    "if userChoice is 'Y':\n",
    "    print('Enter the type of wood you would like your chair to be made of')\n",
    "    typeOfWood = input()\n",
    "    chair.setWoodType(typeOfWood)\n",
    "chair.displayChairSpecification()"
   ]
  },
  {
   "cell_type": "code",
   "execution_count": null,
   "metadata": {},
   "outputs": [],
   "source": []
  }
 ],
 "metadata": {
  "kernelspec": {
   "display_name": "Python 3",
   "language": "python",
   "name": "python3"
  },
  "language_info": {
   "codemirror_mode": {
    "name": "ipython",
    "version": 3
   },
   "file_extension": ".py",
   "mimetype": "text/x-python",
   "name": "python",
   "nbconvert_exporter": "python",
   "pygments_lexer": "ipython3",
   "version": "3.8.5"
  }
 },
 "nbformat": 4,
 "nbformat_minor": 4
}
