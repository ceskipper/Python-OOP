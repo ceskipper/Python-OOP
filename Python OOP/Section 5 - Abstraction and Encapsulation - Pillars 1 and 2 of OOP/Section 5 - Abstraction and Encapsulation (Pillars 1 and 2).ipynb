{
 "cells": [
  {
   "cell_type": "markdown",
   "metadata": {},
   "source": [
    "# Section 5 - Abstraction and Encapsulation (Pillars 1 and 2 of OOP)"
   ]
  },
  {
   "cell_type": "markdown",
   "metadata": {},
   "source": [
    "---"
   ]
  },
  {
   "cell_type": "markdown",
   "metadata": {},
   "source": [
    "When you apply the breaks in a car to slow down, you don't need to know the inner workings of the engine and how it was able to decelerate the car. \n",
    "#### Abstraction = applying the brakes\n",
    "#### Encapsulation = the inner workings of the engine (hidden from view)"
   ]
  },
  {
   "cell_type": "markdown",
   "metadata": {},
   "source": [
    "## Abstraction:\n",
    "is an OOP concept that focuses only on relevant data of an object. It hides the background details and emphasizes the essential data points for reducing the complexity and increase efficiency. It generally retains only information which is most relevant for that specific process. Abstraction method mainly focusses on the idea instead of actual functioning."
   ]
  },
  {
   "cell_type": "markdown",
   "metadata": {},
   "source": [
    "## Encapsulation:\n",
    "is a method of making a complex system easier to handle for end users. The user need not worry about internal details and complexities of the system. Encapsulation is a process of wrapping the data and the code, that operate on the data into a single entity. You can assume it as a protective wrapper that stops random access of code defined outside that wrapper."
   ]
  },
  {
   "cell_type": "code",
   "execution_count": 1,
   "metadata": {},
   "outputs": [],
   "source": [
    "# Class => Library\n",
    "# Layers of abstraction => display available books, to lend a book, to add a book\n",
    "\n",
    "# Class => Customer\n",
    "# Layers of abstraction => request a book, return a book"
   ]
  },
  {
   "cell_type": "code",
   "execution_count": null,
   "metadata": {},
   "outputs": [
    {
     "name": "stderr",
     "output_type": "stream",
     "text": [
      "<>:41: SyntaxWarning: \"is\" with a literal. Did you mean \"==\"?\n",
      "<>:43: SyntaxWarning: \"is\" with a literal. Did you mean \"==\"?\n",
      "<>:46: SyntaxWarning: \"is\" with a literal. Did you mean \"==\"?\n",
      "<>:49: SyntaxWarning: \"is\" with a literal. Did you mean \"==\"?\n",
      "<>:41: SyntaxWarning: \"is\" with a literal. Did you mean \"==\"?\n",
      "<>:43: SyntaxWarning: \"is\" with a literal. Did you mean \"==\"?\n",
      "<>:46: SyntaxWarning: \"is\" with a literal. Did you mean \"==\"?\n",
      "<>:49: SyntaxWarning: \"is\" with a literal. Did you mean \"==\"?\n",
      "<ipython-input-1-93354539bcd8>:41: SyntaxWarning: \"is\" with a literal. Did you mean \"==\"?\n",
      "  if userChoice is 1:\n",
      "<ipython-input-1-93354539bcd8>:43: SyntaxWarning: \"is\" with a literal. Did you mean \"==\"?\n",
      "  elif userChoice is 2:\n",
      "<ipython-input-1-93354539bcd8>:46: SyntaxWarning: \"is\" with a literal. Did you mean \"==\"?\n",
      "  elif userChoice is 3:\n",
      "<ipython-input-1-93354539bcd8>:49: SyntaxWarning: \"is\" with a literal. Did you mean \"==\"?\n",
      "  elif userChoice is 4:\n"
     ]
    },
    {
     "name": "stdout",
     "output_type": "stream",
     "text": [
      "Enter 1 to display the available books\n",
      "Enter 2 to request a book\n",
      "Enter 3 to return a book\n",
      "Enter 4 to exit\n",
      "1\n",
      "\n",
      "Available Books: \n",
      "Think and Grow Rich\n",
      "Who Will Cry When You Die\n",
      "For One More Day\n",
      "Enter 1 to display the available books\n",
      "Enter 2 to request a book\n",
      "Enter 3 to return a book\n",
      "Enter 4 to exit\n",
      "2\n",
      "Enter the name of a book you would like to borrow: \n",
      "For One More Day\n",
      "You have now borrowed the book\n",
      "Enter 1 to display the available books\n",
      "Enter 2 to request a book\n",
      "Enter 3 to return a book\n",
      "Enter 4 to exit\n",
      "1\n",
      "\n",
      "Available Books: \n",
      "Think and Grow Rich\n",
      "Who Will Cry When You Die\n",
      "Enter 1 to display the available books\n",
      "Enter 2 to request a book\n",
      "Enter 3 to return a book\n",
      "Enter 4 to exit\n",
      "3\n",
      "Enter the name of the book which you are returning: \n",
      "For One More Day\n",
      "You have returned the book. Thank you!\n",
      "Enter 1 to display the available books\n",
      "Enter 2 to request a book\n",
      "Enter 3 to return a book\n",
      "Enter 4 to exit\n",
      "1\n",
      "\n",
      "Available Books: \n",
      "Think and Grow Rich\n",
      "Who Will Cry When You Die\n",
      "For One More Day\n",
      "Enter 1 to display the available books\n",
      "Enter 2 to request a book\n",
      "Enter 3 to return a book\n",
      "Enter 4 to exit\n",
      "4\n",
      "Enter 1 to display the available books\n",
      "Enter 2 to request a book\n",
      "Enter 3 to return a book\n",
      "Enter 4 to exit\n",
      "4\n",
      "Enter 1 to display the available books\n",
      "Enter 2 to request a book\n",
      "Enter 3 to return a book\n",
      "Enter 4 to exit\n"
     ]
    }
   ],
   "source": [
    "class Library:\n",
    "    def __init__(self, listOfBooks):\n",
    "        self.availableBooks = listOfBooks\n",
    "        \n",
    "    def displayAvailableBooks(self):\n",
    "        print()\n",
    "        print('Available Books: ')\n",
    "        for book in self.availableBooks:\n",
    "            print(book)\n",
    "    \n",
    "    def lendBook(self, requestedBook):\n",
    "        if requestedBook in self.availableBooks:\n",
    "            print('You have now borrowed the book')\n",
    "            self.availableBooks.remove(requestedBook)\n",
    "        else:\n",
    "            print('Sorry, the book is not available in our list.')\n",
    "    \n",
    "    def addBook(self, returnedBook):\n",
    "        self.availableBooks.append(returnedBook)\n",
    "        print('You have returned the book. Thank you!')\n",
    "\n",
    "class Customer:\n",
    "    def requestBook(self):\n",
    "        print('Enter the name of a book you would like to borrow: ')\n",
    "        self.book = input()\n",
    "        return self.book\n",
    "    \n",
    "    def returnBook(self):\n",
    "        print('Enter the name of the book which you are returning: ')\n",
    "        self.book = input()\n",
    "        return self.book\n",
    "\n",
    "library = Library(['Think and Grow Rich', 'Who Will Cry When You Die', 'For One More Day'])\n",
    "customer = Customer()\n",
    "while True:\n",
    "    print('Enter 1 to display the available books')\n",
    "    print('Enter 2 to request a book')\n",
    "    print('Enter 3 to return a book')\n",
    "    print('Enter 4 to exit')\n",
    "    userChoice = int(input())\n",
    "    if userChoice is 1:\n",
    "        library.displayAvailableBooks()\n",
    "    elif userChoice is 2:\n",
    "        requestedBook = customer.requestBook()\n",
    "        library.lendBook(requestedBook)\n",
    "    elif userChoice is 3:\n",
    "        returnedBook = customer.returnBook()\n",
    "        library.addBook(returnedBook)\n",
    "    elif userChoice is 4:\n",
    "        quit()"
   ]
  },
  {
   "cell_type": "markdown",
   "metadata": {},
   "source": [
    "### Practice"
   ]
  },
  {
   "cell_type": "code",
   "execution_count": null,
   "metadata": {},
   "outputs": [
    {
     "name": "stderr",
     "output_type": "stream",
     "text": [
      "<>:22: SyntaxWarning: \"is\" with a literal. Did you mean \"==\"?\n",
      "<>:24: SyntaxWarning: \"is\" with a literal. Did you mean \"==\"?\n",
      "<>:32: SyntaxWarning: \"is\" with a literal. Did you mean \"==\"?\n",
      "<>:22: SyntaxWarning: \"is\" with a literal. Did you mean \"==\"?\n",
      "<>:24: SyntaxWarning: \"is\" with a literal. Did you mean \"==\"?\n",
      "<>:32: SyntaxWarning: \"is\" with a literal. Did you mean \"==\"?\n",
      "<ipython-input-2-e46103529faa>:22: SyntaxWarning: \"is\" with a literal. Did you mean \"==\"?\n",
      "  if userChoice is 1:\n",
      "<ipython-input-2-e46103529faa>:24: SyntaxWarning: \"is\" with a literal. Did you mean \"==\"?\n",
      "  elif userChoice is 2:\n",
      "<ipython-input-2-e46103529faa>:32: SyntaxWarning: \"is\" with a literal. Did you mean \"==\"?\n",
      "  elif userChoice is 3:\n"
     ]
    },
    {
     "name": "stdout",
     "output_type": "stream",
     "text": [
      "Enter 1 to display the fare details\n",
      "Enter 2 to rent a car\n",
      "Enter 3 to exit\n",
      "1\n",
      "\n",
      "Cost per day: \n",
      "Hatchback: $ 30\n",
      "Sedan: $ 50\n",
      "SUV: $ 100\n",
      "Enter 1 to display the fare details\n",
      "Enter 2 to rent a car\n",
      "Enter 3 to exit\n",
      "2\n",
      "Enter the type of car you would like to rent\n",
      "Sedan\n",
      "Enter the number of days you would like to rent the car\n",
      "4\n",
      "Total payable amount: $ 200\n",
      "Thank you!\n",
      "Enter 1 to display the fare details\n",
      "Enter 2 to rent a car\n",
      "Enter 3 to exit\n",
      "3\n",
      "Enter 1 to display the fare details\n",
      "Enter 2 to rent a car\n",
      "Enter 3 to exit\n"
     ]
    }
   ],
   "source": [
    "class Car:\n",
    "    def __init__(self):\n",
    "        self.carFare = {'Hatchback': 30, 'Sedan': 50, 'SUV': 100}\n",
    "        \n",
    "    def displayFareDetails(self):\n",
    "        print()\n",
    "        print('Cost per day: ')\n",
    "        print('Hatchback: $', self.carFare['Hatchback'])\n",
    "        print('Sedan: $', self.carFare['Sedan'])\n",
    "        print('SUV: $', self.carFare['SUV'])\n",
    "    \n",
    "    def calculateFare(self, typeOfCar, numberOfDays):\n",
    "        return self.carFare[typeOfCar] * numberOfDays\n",
    "\n",
    "    \n",
    "car = Car()\n",
    "while True:\n",
    "    print('Enter 1 to display the fare details')\n",
    "    print('Enter 2 to rent a car')\n",
    "    print('Enter 3 to exit')\n",
    "    userChoice = int(input())\n",
    "    if userChoice is 1:\n",
    "        car.displayFareDetails()\n",
    "    elif userChoice is 2:\n",
    "        print('Enter the type of car you would like to rent')\n",
    "        typeOfCar = input()\n",
    "        print('Enter the number of days you would like to rent the car')\n",
    "        numberOfDays = int(input())\n",
    "        fare = car.calculateFare(typeOfCar, numberOfDays)\n",
    "        print('Total payable amount: $', fare)\n",
    "        print('Thank you!')\n",
    "    elif userChoice is 3:\n",
    "        quit()"
   ]
  },
  {
   "cell_type": "code",
   "execution_count": null,
   "metadata": {},
   "outputs": [],
   "source": []
  }
 ],
 "metadata": {
  "kernelspec": {
   "display_name": "Python 3",
   "language": "python",
   "name": "python3"
  },
  "language_info": {
   "codemirror_mode": {
    "name": "ipython",
    "version": 3
   },
   "file_extension": ".py",
   "mimetype": "text/x-python",
   "name": "python",
   "nbconvert_exporter": "python",
   "pygments_lexer": "ipython3",
   "version": "3.8.5"
  }
 },
 "nbformat": 4,
 "nbformat_minor": 4
}
