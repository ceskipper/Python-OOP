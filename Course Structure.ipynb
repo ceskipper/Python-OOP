{
 "cells": [
  {
   "cell_type": "markdown",
   "metadata": {},
   "source": [
    "# Course Structure"
   ]
  },
  {
   "cell_type": "markdown",
   "metadata": {},
   "source": [
    "### Installation of Python\n",
    "### Classes & Objects\n",
    "### Attributes & Methods\n",
    "### Abstraction and Encapsulation - The first two pillars of OOP\n",
    "### Inheritance - The third pillar of OOP\n",
    "### Polymorphism - the Final pinal of OOP\n",
    "### Project - Simulate a banking system"
   ]
  }
 ],
 "metadata": {
  "kernelspec": {
   "display_name": "Python 3",
   "language": "python",
   "name": "python3"
  },
  "language_info": {
   "codemirror_mode": {
    "name": "ipython",
    "version": 3
   },
   "file_extension": ".py",
   "mimetype": "text/x-python",
   "name": "python",
   "nbconvert_exporter": "python",
   "pygments_lexer": "ipython3",
   "version": "3.8.5"
  }
 },
 "nbformat": 4,
 "nbformat_minor": 4
}
